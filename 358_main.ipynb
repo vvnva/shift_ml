{
 "cells": [
  {
   "cell_type": "code",
   "execution_count": 39,
   "id": "initial_id",
   "metadata": {
    "collapsed": true,
    "ExecuteTime": {
     "end_time": "2024-02-08T16:55:46.303593Z",
     "start_time": "2024-02-08T16:55:46.151094Z"
    }
   },
   "outputs": [],
   "source": [
    "import pandas as pd\n",
    "import numpy as np\n",
    "from sklearn.model_selection import TimeSeriesSplit, GridSearchCV\n",
    "from sklearn.ensemble import RandomForestClassifier\n",
    "from sklearn.metrics import  accuracy_score\n",
    "import matplotlib.pyplot as plt\n",
    "import warnings\n",
    "warnings.filterwarnings('ignore')"
   ]
  },
  {
   "cell_type": "code",
   "execution_count": 40,
   "outputs": [],
   "source": [
    "train=pd.read_csv('train.csv', index_col=0)\n",
    "test=pd.read_csv('test.csv', index_col=0)\n",
    "submit=pd.read_csv('submit.csv', index_col=0)"
   ],
   "metadata": {
    "collapsed": false,
    "ExecuteTime": {
     "end_time": "2024-02-08T16:55:46.782125Z",
     "start_time": "2024-02-08T16:55:46.306366Z"
    }
   },
   "id": "dfe18e576d507bbe"
  },
  {
   "cell_type": "markdown",
   "source": [
    "## Разведочный анализ"
   ],
   "metadata": {
    "collapsed": false
   },
   "id": "10061f92bf93d454"
  },
  {
   "cell_type": "code",
   "execution_count": 41,
   "outputs": [
    {
     "name": "stdout",
     "output_type": "stream",
     "text": [
      "2346\n",
      "505\n"
     ]
    }
   ],
   "source": [
    "# число дубликатов в датасете train и test\n",
    "print(train.duplicated().sum())\n",
    "print(test.duplicated().sum())"
   ],
   "metadata": {
    "collapsed": false,
    "ExecuteTime": {
     "end_time": "2024-02-08T16:55:46.870615Z",
     "start_time": "2024-02-08T16:55:46.767288Z"
    }
   },
   "id": "4164a4a6089bc034"
  },
  {
   "cell_type": "code",
   "execution_count": 42,
   "outputs": [],
   "source": [
    "# удаляем дубликаты\n",
    "train = train.drop_duplicates()\n",
    "test = test.drop_duplicates()"
   ],
   "metadata": {
    "collapsed": false,
    "ExecuteTime": {
     "end_time": "2024-02-08T16:55:46.937315Z",
     "start_time": "2024-02-08T16:55:46.823114Z"
    }
   },
   "id": "3767c5ebb4f6972c"
  },
  {
   "cell_type": "code",
   "execution_count": 43,
   "outputs": [],
   "source": [
    "train['ts']=pd.to_datetime(train['ts'])\n",
    "test['ts']=pd.to_datetime(test['ts'])\n",
    "train['date']=train['ts'].dt.date\n",
    "test['date']=test['ts'].dt.date"
   ],
   "metadata": {
    "collapsed": false,
    "ExecuteTime": {
     "end_time": "2024-02-08T16:55:47.070576Z",
     "start_time": "2024-02-08T16:55:46.932894Z"
    }
   },
   "id": "11ce6974a78dee6e"
  },
  {
   "cell_type": "code",
   "execution_count": 44,
   "outputs": [
    {
     "data": {
      "text/plain": "37    2184\n55    2166\n6     1857\n12    1837\n19    1661\n15    1659\n18    1441\n53    1279\n11    1255\n47    1250\n33    1184\n0     1184\n1     1171\n49    1129\n39    1032\n32    1020\n9     1015\n54     977\n50     965\n29     924\n3      894\n48     712\n17     648\n14     617\n35     549\n27     523\n57     482\n46     475\n24     386\n42     340\n26     279\n34     267\n23     247\n40     242\n25     238\n31     181\n56     129\n43     117\n20     112\n41     110\n22      87\n28      64\n45      57\n7       48\n36      45\n2       39\n8       27\n10      17\n38      13\n5       10\n30      10\n52       5\n21       5\n44       4\n51       2\n4        1\nName: user_id, dtype: int64"
     },
     "execution_count": 44,
     "metadata": {},
     "output_type": "execute_result"
    }
   ],
   "source": [
    "# распределение по user_id\n",
    "train.user_id.value_counts()"
   ],
   "metadata": {
    "collapsed": false,
    "ExecuteTime": {
     "end_time": "2024-02-08T16:55:47.145415Z",
     "start_time": "2024-02-08T16:55:47.037862Z"
    }
   },
   "id": "7ae279a3f99e61fd"
  },
  {
   "cell_type": "code",
   "execution_count": 45,
   "outputs": [
    {
     "data": {
      "text/plain": "         counts  date_unique\nuser_id                     \n4             1            1\n51            2            2\n44            4            1\n21            5            2\n52            5            1\n30           10            2\n5            10            2",
      "text/html": "<div>\n<style scoped>\n    .dataframe tbody tr th:only-of-type {\n        vertical-align: middle;\n    }\n\n    .dataframe tbody tr th {\n        vertical-align: top;\n    }\n\n    .dataframe thead th {\n        text-align: right;\n    }\n</style>\n<table border=\"1\" class=\"dataframe\">\n  <thead>\n    <tr style=\"text-align: right;\">\n      <th></th>\n      <th>counts</th>\n      <th>date_unique</th>\n    </tr>\n    <tr>\n      <th>user_id</th>\n      <th></th>\n      <th></th>\n    </tr>\n  </thead>\n  <tbody>\n    <tr>\n      <th>4</th>\n      <td>1</td>\n      <td>1</td>\n    </tr>\n    <tr>\n      <th>51</th>\n      <td>2</td>\n      <td>2</td>\n    </tr>\n    <tr>\n      <th>44</th>\n      <td>4</td>\n      <td>1</td>\n    </tr>\n    <tr>\n      <th>21</th>\n      <td>5</td>\n      <td>2</td>\n    </tr>\n    <tr>\n      <th>52</th>\n      <td>5</td>\n      <td>1</td>\n    </tr>\n    <tr>\n      <th>30</th>\n      <td>10</td>\n      <td>2</td>\n    </tr>\n    <tr>\n      <th>5</th>\n      <td>10</td>\n      <td>2</td>\n    </tr>\n  </tbody>\n</table>\n</div>"
     },
     "execution_count": 45,
     "metadata": {},
     "output_type": "execute_result"
    }
   ],
   "source": [
    "grp_user = train.groupby('user_id').agg(\n",
    "    counts=('ts', 'count'),\n",
    "    date_unique=('date', lambda x: x.nunique()))\n",
    "grp_user.sort_values(['counts']).head(7)"
   ],
   "metadata": {
    "collapsed": false,
    "ExecuteTime": {
     "end_time": "2024-02-08T16:55:47.319577Z",
     "start_time": "2024-02-08T16:55:47.167086Z"
    }
   },
   "id": "4cf9c7ade33221e"
  },
  {
   "cell_type": "code",
   "execution_count": 46,
   "outputs": [],
   "source": [
    "# Фильтрация данных, исключая пользователей из списка user_id_to_delete\n",
    "user_id_to_delete=[4, 51, 44, 21, 52] #можно удалить\n",
    "train = train[~train['user_id'].isin(user_id_to_delete)]"
   ],
   "metadata": {
    "collapsed": false,
    "ExecuteTime": {
     "end_time": "2024-02-08T16:55:47.438723Z",
     "start_time": "2024-02-08T16:55:47.302311Z"
    }
   },
   "id": "d823f3a31d3196a1"
  },
  {
   "cell_type": "code",
   "execution_count": 47,
   "outputs": [
    {
     "data": {
      "text/plain": "-1       25\n 0        2\n 1        5\n 3     5219\n 4     7976\n 5     4548\n 6     1739\n 7     3025\n 8       23\n 9     1728\n 10    4767\n 11    4090\n 12     619\n 13    1087\n 14       1\n 15     298\n 16       3\nName: gate_id, dtype: int64"
     },
     "execution_count": 47,
     "metadata": {},
     "output_type": "execute_result"
    }
   ],
   "source": [
    "# вычислим уникальные gate_id в train и количество пересечений через каждый турникет\n",
    "train_gate = train['gate_id'].value_counts(dropna = False).sort_index()\n",
    "train_gate\n",
    "#gate_id_to_delete = [0,1,14,16] вероятно можно удалить"
   ],
   "metadata": {
    "collapsed": false,
    "ExecuteTime": {
     "end_time": "2024-02-08T16:55:47.608833Z",
     "start_time": "2024-02-08T16:55:47.398012Z"
    }
   },
   "id": "3982ae991aa7c167"
  },
  {
   "cell_type": "code",
   "execution_count": 48,
   "outputs": [
    {
     "data": {
      "text/plain": "-1        1\n 1        2\n 2        4\n 3      893\n 4     1431\n 5      853\n 6      282\n 7      540\n 8       10\n 9      394\n 10     915\n 11     762\n 12     120\n 13     310\n 14       1\n 15     102\nName: gate_id, dtype: int64"
     },
     "execution_count": 48,
     "metadata": {},
     "output_type": "execute_result"
    }
   ],
   "source": [
    "# вычислим уникальные gate_id в test и количество пересечений через каждый турникет\n",
    "test_gate = test['gate_id'].value_counts(dropna = False).sort_index()\n",
    "test_gate\n",
    "#gate_id_to_delete = [-1,1,2,14] вероятно можно удалить"
   ],
   "metadata": {
    "collapsed": false,
    "ExecuteTime": {
     "end_time": "2024-02-08T16:55:47.673175Z",
     "start_time": "2024-02-08T16:55:47.528968Z"
    }
   },
   "id": "5278ba54887d1f53"
  },
  {
   "cell_type": "code",
   "execution_count": 49,
   "outputs": [
    {
     "name": "stdout",
     "output_type": "stream",
     "text": [
      "Каких gate_id из train нет в test: {0, 16}\n",
      "Каких gate_id из test нет в train:  {2}\n"
     ]
    }
   ],
   "source": [
    "only_train = set(train['gate_id']) - set(test['gate_id'])\n",
    "only_test = set(test['gate_id']) - set(train['gate_id'])\n",
    "print(\"Каких gate_id из train нет в test:\", only_train)\n",
    "print(\"Каких gate_id из test нет в train: \", only_test)"
   ],
   "metadata": {
    "collapsed": false,
    "ExecuteTime": {
     "end_time": "2024-02-08T16:55:47.875704Z",
     "start_time": "2024-02-08T16:55:47.674719Z"
    }
   },
   "id": "e7427c0594532cf3"
  },
  {
   "cell_type": "markdown",
   "source": [
    "Так как турникетов 0, 16 нет в тесте, их нет необходимости распознавать, можно удалить. В трейне они встречаются соответственно 2 и 3 раза.\n",
    "Пользователи с номером -1,1,2,14 встречаются 4 и менее раз в test, их будет довольно сложно распознать. Необходимо либо аугментировать данные, либо удалить.\n",
    "Записей о пользователях с номерами 0,1,14,16 мало, для лучшей работы модели их можно удалить\n"
   ],
   "metadata": {
    "collapsed": false
   },
   "id": "5cfa0e0a0aedab6c"
  },
  {
   "cell_type": "code",
   "execution_count": 50,
   "outputs": [],
   "source": [
    "def del_gate(data, number_list):\n",
    "    return data[~data['gate_id'].isin(number_list)]\n",
    "list_gate_id_del = [-1, 0, 1, 2, 14, 16] #[0, 16] # \n",
    "train = del_gate(train, list_gate_id_del)\n",
    "test=del_gate(test, list_gate_id_del)"
   ],
   "metadata": {
    "collapsed": false,
    "ExecuteTime": {
     "end_time": "2024-02-08T16:55:47.979715Z",
     "start_time": "2024-02-08T16:55:47.855140Z"
    }
   },
   "id": "24a3b9bccf7ed7df"
  },
  {
   "cell_type": "markdown",
   "source": [
    "# Feature engineering"
   ],
   "metadata": {
    "collapsed": false
   },
   "id": "a8d915a1edb1a879"
  },
  {
   "cell_type": "code",
   "execution_count": 51,
   "outputs": [],
   "source": [
    "test.rename(columns={'user_word': 'user_id'}, inplace=True)"
   ],
   "metadata": {
    "collapsed": false,
    "ExecuteTime": {
     "end_time": "2024-02-08T16:55:48.060438Z",
     "start_time": "2024-02-08T16:55:47.916268Z"
    }
   },
   "id": "e06b71c7eed46461"
  },
  {
   "cell_type": "code",
   "execution_count": 52,
   "outputs": [],
   "source": [
    "def process_data(df):\n",
    "    #метки времени\n",
    "    df['ts'] = pd.to_datetime(df['ts'])\n",
    "    df['day'] = df['ts'].dt.day\n",
    "    df['hour'] = df['ts'].dt.hour\n",
    "    df['minute'] = df['ts'].dt.minute\n",
    "    df[\"second\"] = df['ts'].dt.second #на обучении удаляется\n",
    "    df['minutes'] = df[\"hour\"] * 60 + df[\"minute\"] \n",
    "    df['seconds'] = df.minutes * 60 + df[\"second\"]\n",
    "    \n",
    "    #метки дней  \n",
    "    df[\"weekday\"] = df['ts'].dt.dayofweek                  # День недели от 0 до 6\n",
    "    df[\"Dow2\"] = (df['ts'].dt.dayofyear % 4).apply(lambda x: int(x in (1, 2))) #график работы 2 через 2 \n",
    "    df[\"Dow2_2\"] = (df['ts'].dt.dayofyear % 4).apply(lambda x: int(x < 2)) #второй график такой же со сдвигом на 1\n",
    "    \n",
    "    # Длина рабочего дня, количество проходов за день у каждого пользователя\n",
    "    df.sort_values(['user_id', 'ts'], inplace=True)\n",
    "    df['date'] = df['ts'].dt.date\n",
    "    first_entry_exit_per_day = df.groupby(['user_id', 'date'], as_index=False)['ts'].agg(['min', 'max']).reset_index()\n",
    "    first_entry_exit_per_day['time_diff'] = (first_entry_exit_per_day['max'] - first_entry_exit_per_day['min']).dt.total_seconds() / 60\n",
    "    first_entry_exit_per_day['count'] = df.groupby(['user_id', 'date']).count()['ts'].reset_index(name='count')['count']\n",
    "    df = pd.merge(df, first_entry_exit_per_day[['user_id', 'date', 'time_diff', 'count']], on=['user_id', 'date'], how='left')\n",
    "\n",
    "    #Первый и последний турникеты для каждой группы\n",
    "    grouped_data = df.groupby(['user_id', 'date'])\n",
    "    first_gate = grouped_data['gate_id'].first().reset_index()\n",
    "    last_gate = grouped_data['gate_id'].last().reset_index()\n",
    "    df = pd.merge(df, first_gate, on=['user_id', 'date'], how='left', suffixes=('', '_first'))\n",
    "    df = pd.merge(df, last_gate, on=['user_id', 'date'], how='left', suffixes=('', '_last'))\n",
    "\n",
    "    #Вероятность попадания гейта\n",
    "    gate_counts = df.groupby(['user_id', 'gate_id'])['user_id'].count().reset_index(name='gate_count')\n",
    "    gate_counts['gate_prob'] = gate_counts.groupby('user_id')['gate_count'].transform(lambda x: np.exp(x) / np.exp(x).sum())\n",
    "    df = pd.merge(df, gate_counts[['user_id', 'gate_id', 'gate_prob']], on=['user_id', 'gate_id'], how='left')\n",
    "\n",
    "    return df\n",
    "train = process_data(train)\n",
    "test = process_data(test)"
   ],
   "metadata": {
    "collapsed": false,
    "ExecuteTime": {
     "end_time": "2024-02-08T16:55:49.303506Z",
     "start_time": "2024-02-08T16:55:48.072038Z"
    }
   },
   "id": "d996a94ef2d70097"
  },
  {
   "cell_type": "code",
   "execution_count": 53,
   "outputs": [],
   "source": [
    "test.rename(columns={'user_id': 'user_word'}, inplace=True)"
   ],
   "metadata": {
    "collapsed": false,
    "ExecuteTime": {
     "end_time": "2024-02-08T16:55:49.308764Z",
     "start_time": "2024-02-08T16:55:49.059032Z"
    }
   },
   "id": "bf23b4a61a434fee"
  },
  {
   "cell_type": "markdown",
   "source": [
    "Я не успела красиво оформить ниже, добавляю сдвиги по турникетам и сдвиги по времени прохождения турникетов в течении дня по каждому пользователю."
   ],
   "metadata": {
    "collapsed": false
   },
   "id": "82641e045beaae2"
  },
  {
   "cell_type": "code",
   "execution_count": 54,
   "outputs": [],
   "source": [
    "train.sort_values(['user_id', 'ts'], inplace=True)\n",
    "grouped_data = train.groupby(['user_id', 'date'])\n",
    "train['g1'] = grouped_data['gate_id'].shift(-1)\n",
    "train['g-1'] = grouped_data['gate_id'].shift(1)\n",
    "train['g2'] = grouped_data['gate_id'].shift(-2)\n",
    "train['g-2'] = grouped_data['gate_id'].shift(2)\n",
    "train['g3'] = grouped_data['gate_id'].shift(-3)\n",
    "train['g-3'] = grouped_data['gate_id'].shift(3)\n",
    "train['g4'] = grouped_data['gate_id'].shift(-4)\n",
    "train['g-4'] = grouped_data['gate_id'].shift(4)\n",
    "train['g5'] = grouped_data['gate_id'].shift(-5)\n",
    "train['g-5'] = grouped_data['gate_id'].shift(5)\n",
    "\n",
    "train['g-1'].fillna(-1000, inplace=True)\n",
    "train['g-2'].fillna(-1000, inplace=True)\n",
    "train['g-3'].fillna(-1000, inplace=True)\n",
    "train['g-4'].fillna(-1000, inplace=True)\n",
    "train['g-5'].fillna(-1000, inplace=True)\n",
    "train['g1'].fillna(-900, inplace=True)\n",
    "train['g2'].fillna(-900, inplace=True)\n",
    "train['g3'].fillna(-900, inplace=True)\n",
    "train['g4'].fillna(-900, inplace=True)\n",
    "train['g5'].fillna(-900, inplace=True)\n",
    "\n",
    "test.sort_values(['user_word', 'ts'], inplace=True)\n",
    "grouped_data = test.groupby(['user_word', 'date'])\n",
    "test['g1'] = grouped_data['gate_id'].shift(-1)\n",
    "test['g-1'] = grouped_data['gate_id'].shift(1)\n",
    "test['g2'] = grouped_data['gate_id'].shift(-2)\n",
    "test['g-2'] = grouped_data['gate_id'].shift(2)\n",
    "test['g3'] = grouped_data['gate_id'].shift(-3)\n",
    "test['g-3'] = grouped_data['gate_id'].shift(3)\n",
    "test['g4'] = grouped_data['gate_id'].shift(-4)\n",
    "test['g-4'] = grouped_data['gate_id'].shift(4)\n",
    "test['g5'] = grouped_data['gate_id'].shift(-5)\n",
    "test['g-5'] = grouped_data['gate_id'].shift(5)\n",
    "\n",
    "test['g-1'].fillna(-1000, inplace=True)\n",
    "test['g-2'].fillna(-1000, inplace=True)\n",
    "test['g-3'].fillna(-1000, inplace=True)\n",
    "test['g-4'].fillna(-1000, inplace=True)\n",
    "test['g-5'].fillna(-1000, inplace=True)\n",
    "test['g1'].fillna(-900, inplace=True)\n",
    "test['g2'].fillna(-900, inplace=True)\n",
    "test['g3'].fillna(-900, inplace=True)\n",
    "test['g4'].fillna(-900, inplace=True)\n",
    "test['g5'].fillna(-900, inplace=True)\n",
    "\n",
    "train.sort_values(['user_id', 'ts'], inplace=True)\n",
    "grouped_data = train.groupby(['user_id', 'date'])\n",
    "train['delta_sec-1'] = grouped_data['seconds'].shift(periods=-1, fill_value=-200) - train['seconds']\n",
    "train['delta_sec-2'] = grouped_data['seconds'].shift(periods=-2, fill_value=-200) - train['seconds']\n",
    "train['delta_sec-3'] = grouped_data['seconds'].shift(periods=-3, fill_value=-200) - train['seconds']\n",
    "train['delta_sec-4'] = grouped_data['seconds'].shift(periods=-4, fill_value=-200) - train['seconds']\n",
    "train['delta_sec-5'] = grouped_data['seconds'].shift(periods=-5, fill_value=-200) - train['seconds']\n",
    "\n",
    "train['delta_sec1'] = grouped_data['seconds'].shift(periods=1, fill_value=200) - train['seconds']\n",
    "train['delta_sec2'] = grouped_data['seconds'].shift(periods=2, fill_value=200) - train['seconds']\n",
    "train['delta_sec3'] = grouped_data['seconds'].shift(periods=3, fill_value=200) - train['seconds']\n",
    "train['delta_sec4'] = grouped_data['seconds'].shift(periods=4, fill_value=200) - train['seconds']\n",
    "train['delta_sec5'] = grouped_data['seconds'].shift(periods=5, fill_value=200) - train['seconds']\n",
    "\n",
    "test.sort_values(['user_word', 'ts'], inplace=True)\n",
    "grouped_data = test.groupby(['user_word', 'date'])\n",
    "test['delta_sec-1'] = grouped_data['seconds'].shift(periods=-1, fill_value=-200) - test['seconds']\n",
    "test['delta_sec-2'] = grouped_data['seconds'].shift(periods=-2, fill_value=-200) - test['seconds']\n",
    "test['delta_sec-3'] = grouped_data['seconds'].shift(periods=-3, fill_value=-200) - test['seconds']\n",
    "test['delta_sec-4'] = grouped_data['seconds'].shift(periods=-4, fill_value=-200) - test['seconds']\n",
    "test['delta_sec-5'] = grouped_data['seconds'].shift(periods=-5, fill_value=-200) - test['seconds']\n",
    "\n",
    "test['delta_sec1'] = grouped_data['seconds'].shift(periods=1, fill_value=200) - test['seconds']\n",
    "test['delta_sec2'] = grouped_data['seconds'].shift(periods=2, fill_value=200) - test['seconds']\n",
    "test['delta_sec3'] = grouped_data['seconds'].shift(periods=3, fill_value=200) - test['seconds']\n",
    "test['delta_sec4'] = grouped_data['seconds'].shift(periods=4, fill_value=200) - test['seconds']\n",
    "test['delta_sec5'] = grouped_data['seconds'].shift(periods=5, fill_value=200) - test['seconds']"
   ],
   "metadata": {
    "collapsed": false,
    "ExecuteTime": {
     "end_time": "2024-02-08T16:55:49.633506Z",
     "start_time": "2024-02-08T16:55:49.074907Z"
    }
   },
   "id": "1d444d2d50539e21"
  },
  {
   "cell_type": "code",
   "execution_count": 55,
   "outputs": [],
   "source": [
    "# Инициализация модели и обучение на обучающей выборке\n",
    "X_train = train.drop(columns=['user_id','ts', 'date','second'])\n",
    "y_train = train['user_id']"
   ],
   "metadata": {
    "collapsed": false,
    "ExecuteTime": {
     "end_time": "2024-02-08T16:55:49.706676Z",
     "start_time": "2024-02-08T16:55:49.597332Z"
    }
   },
   "id": "e207704e0dc0119f"
  },
  {
   "cell_type": "code",
   "execution_count": 56,
   "outputs": [],
   "source": [
    "# train.sort_values(['ts'], inplace=True)\n",
    "# tscv = TimeSeriesSplit(n_splits=4)\n",
    "# # Инициализация модели и параметров для поиска\n",
    "# clf = RandomForestClassifier(random_state=1)\n",
    "# param_grid = {\n",
    "#     'n_estimators': [50, 100, 200],\n",
    "#     'max_features': ['sqrt', 'log2'],\n",
    "#     \"max_depth\": [10, 15, 20, 50],\n",
    "#     'criterion': ['gini', 'entropy']}"
   ],
   "metadata": {
    "collapsed": false,
    "ExecuteTime": {
     "end_time": "2024-02-08T16:55:49.707003Z",
     "start_time": "2024-02-08T16:55:49.640232Z"
    }
   },
   "id": "7c8206ddb5c5ffea"
  },
  {
   "cell_type": "code",
   "execution_count": 57,
   "outputs": [],
   "source": [
    "# #Инициализация GridSearchCV\n",
    "# grid_RF = GridSearchCV(clf, param_grid, scoring='accuracy', verbose=2, cv=tscv)\n",
    "# grid_RF.fit(X_train, y_train)"
   ],
   "metadata": {
    "collapsed": false,
    "ExecuteTime": {
     "end_time": "2024-02-08T16:55:49.748397Z",
     "start_time": "2024-02-08T16:55:49.652422Z"
    }
   },
   "id": "485d593a33923084"
  },
  {
   "cell_type": "code",
   "execution_count": 58,
   "outputs": [],
   "source": [
    "# grid_RF.best_params_"
   ],
   "metadata": {
    "collapsed": false,
    "ExecuteTime": {
     "end_time": "2024-02-08T16:55:49.749401Z",
     "start_time": "2024-02-08T16:55:49.669265Z"
    }
   },
   "id": "bc5b6b62c583bd33"
  },
  {
   "cell_type": "markdown",
   "source": [
    "#grid_RF.best_params_\n",
    "{'criterion': 'gini',\n",
    " 'max_depth': 20,\n",
    " 'max_features': 'log2',\n",
    " 'n_estimators': 50}"
   ],
   "metadata": {
    "collapsed": false
   },
   "id": "a72b409135cfb4c4"
  },
  {
   "cell_type": "code",
   "execution_count": 59,
   "outputs": [
    {
     "data": {
      "text/plain": "RandomForestClassifier(max_depth=50, max_features='log2', n_estimators=50,\n                       random_state=1)",
      "text/html": "<style>#sk-container-id-2 {color: black;background-color: white;}#sk-container-id-2 pre{padding: 0;}#sk-container-id-2 div.sk-toggleable {background-color: white;}#sk-container-id-2 label.sk-toggleable__label {cursor: pointer;display: block;width: 100%;margin-bottom: 0;padding: 0.3em;box-sizing: border-box;text-align: center;}#sk-container-id-2 label.sk-toggleable__label-arrow:before {content: \"▸\";float: left;margin-right: 0.25em;color: #696969;}#sk-container-id-2 label.sk-toggleable__label-arrow:hover:before {color: black;}#sk-container-id-2 div.sk-estimator:hover label.sk-toggleable__label-arrow:before {color: black;}#sk-container-id-2 div.sk-toggleable__content {max-height: 0;max-width: 0;overflow: hidden;text-align: left;background-color: #f0f8ff;}#sk-container-id-2 div.sk-toggleable__content pre {margin: 0.2em;color: black;border-radius: 0.25em;background-color: #f0f8ff;}#sk-container-id-2 input.sk-toggleable__control:checked~div.sk-toggleable__content {max-height: 200px;max-width: 100%;overflow: auto;}#sk-container-id-2 input.sk-toggleable__control:checked~label.sk-toggleable__label-arrow:before {content: \"▾\";}#sk-container-id-2 div.sk-estimator input.sk-toggleable__control:checked~label.sk-toggleable__label {background-color: #d4ebff;}#sk-container-id-2 div.sk-label input.sk-toggleable__control:checked~label.sk-toggleable__label {background-color: #d4ebff;}#sk-container-id-2 input.sk-hidden--visually {border: 0;clip: rect(1px 1px 1px 1px);clip: rect(1px, 1px, 1px, 1px);height: 1px;margin: -1px;overflow: hidden;padding: 0;position: absolute;width: 1px;}#sk-container-id-2 div.sk-estimator {font-family: monospace;background-color: #f0f8ff;border: 1px dotted black;border-radius: 0.25em;box-sizing: border-box;margin-bottom: 0.5em;}#sk-container-id-2 div.sk-estimator:hover {background-color: #d4ebff;}#sk-container-id-2 div.sk-parallel-item::after {content: \"\";width: 100%;border-bottom: 1px solid gray;flex-grow: 1;}#sk-container-id-2 div.sk-label:hover label.sk-toggleable__label {background-color: #d4ebff;}#sk-container-id-2 div.sk-serial::before {content: \"\";position: absolute;border-left: 1px solid gray;box-sizing: border-box;top: 0;bottom: 0;left: 50%;z-index: 0;}#sk-container-id-2 div.sk-serial {display: flex;flex-direction: column;align-items: center;background-color: white;padding-right: 0.2em;padding-left: 0.2em;position: relative;}#sk-container-id-2 div.sk-item {position: relative;z-index: 1;}#sk-container-id-2 div.sk-parallel {display: flex;align-items: stretch;justify-content: center;background-color: white;position: relative;}#sk-container-id-2 div.sk-item::before, #sk-container-id-2 div.sk-parallel-item::before {content: \"\";position: absolute;border-left: 1px solid gray;box-sizing: border-box;top: 0;bottom: 0;left: 50%;z-index: -1;}#sk-container-id-2 div.sk-parallel-item {display: flex;flex-direction: column;z-index: 1;position: relative;background-color: white;}#sk-container-id-2 div.sk-parallel-item:first-child::after {align-self: flex-end;width: 50%;}#sk-container-id-2 div.sk-parallel-item:last-child::after {align-self: flex-start;width: 50%;}#sk-container-id-2 div.sk-parallel-item:only-child::after {width: 0;}#sk-container-id-2 div.sk-dashed-wrapped {border: 1px dashed gray;margin: 0 0.4em 0.5em 0.4em;box-sizing: border-box;padding-bottom: 0.4em;background-color: white;}#sk-container-id-2 div.sk-label label {font-family: monospace;font-weight: bold;display: inline-block;line-height: 1.2em;}#sk-container-id-2 div.sk-label-container {text-align: center;}#sk-container-id-2 div.sk-container {/* jupyter's `normalize.less` sets `[hidden] { display: none; }` but bootstrap.min.css set `[hidden] { display: none !important; }` so we also need the `!important` here to be able to override the default hidden behavior on the sphinx rendered scikit-learn.org. See: https://github.com/scikit-learn/scikit-learn/issues/21755 */display: inline-block !important;position: relative;}#sk-container-id-2 div.sk-text-repr-fallback {display: none;}</style><div id=\"sk-container-id-2\" class=\"sk-top-container\"><div class=\"sk-text-repr-fallback\"><pre>RandomForestClassifier(max_depth=50, max_features=&#x27;log2&#x27;, n_estimators=50,\n                       random_state=1)</pre><b>In a Jupyter environment, please rerun this cell to show the HTML representation or trust the notebook. <br />On GitHub, the HTML representation is unable to render, please try loading this page with nbviewer.org.</b></div><div class=\"sk-container\" hidden><div class=\"sk-item\"><div class=\"sk-estimator sk-toggleable\"><input class=\"sk-toggleable__control sk-hidden--visually\" id=\"sk-estimator-id-2\" type=\"checkbox\" checked><label for=\"sk-estimator-id-2\" class=\"sk-toggleable__label sk-toggleable__label-arrow\">RandomForestClassifier</label><div class=\"sk-toggleable__content\"><pre>RandomForestClassifier(max_depth=50, max_features=&#x27;log2&#x27;, n_estimators=50,\n                       random_state=1)</pre></div></div></div></div></div>"
     },
     "execution_count": 59,
     "metadata": {},
     "output_type": "execute_result"
    }
   ],
   "source": [
    "clf = RandomForestClassifier(criterion='gini', max_depth=50,  max_features='log2', n_estimators=50, random_state=1)\n",
    "clf.fit(X_train, y_train)"
   ],
   "metadata": {
    "collapsed": false,
    "ExecuteTime": {
     "end_time": "2024-02-08T16:56:03.506112Z",
     "start_time": "2024-02-08T16:55:49.682834Z"
    }
   },
   "id": "141ed64d0eb4660"
  },
  {
   "cell_type": "code",
   "execution_count": 60,
   "outputs": [],
   "source": [
    "y_train_pred = clf.predict(X_train)"
   ],
   "metadata": {
    "collapsed": false,
    "ExecuteTime": {
     "end_time": "2024-02-08T16:56:04.921269Z",
     "start_time": "2024-02-08T16:56:03.477458Z"
    }
   },
   "id": "b51537479ecee72c"
  },
  {
   "cell_type": "code",
   "execution_count": 61,
   "outputs": [],
   "source": [
    "# Предсказание на тестовой выборке\n",
    "X_test = test.drop(columns=['ts','user_word', 'date', 'second'])\n",
    "y_test_pred = clf.predict(X_test)\n",
    "test['predicted_user_id'] = y_test_pred"
   ],
   "metadata": {
    "collapsed": false,
    "ExecuteTime": {
     "end_time": "2024-02-08T16:56:05.467209Z",
     "start_time": "2024-02-08T16:56:04.957040Z"
    }
   },
   "id": "22a6003d004946aa"
  },
  {
   "cell_type": "raw",
   "source": [
    "Код для расчета важности признаков: https://scikit-learn.org/stable/auto_examples/ensemble/plot_forest_importances.html\n",
    "Если какие-то признаки не имеют влияния, их вероятно можно удалить."
   ],
   "metadata": {
    "collapsed": false
   },
   "id": "c3b8249ecfe382a1"
  },
  {
   "cell_type": "code",
   "execution_count": 62,
   "outputs": [
    {
     "data": {
      "text/plain": "<Figure size 640x480 with 1 Axes>",
      "image/png": "[encoded data removed]"
     },
     "metadata": {},
     "output_type": "display_data"
    }
   ],
   "source": [
    "importances = clf.feature_importances_\n",
    "std = np.std([tree.feature_importances_ for tree in clf.estimators_], axis=0)\n",
    "forest_importances = pd.Series(importances, index=X_test.columns)\n",
    "fig, ax = plt.subplots()\n",
    "forest_importances.plot.bar(yerr=std, ax=ax)\n",
    "ax.set_title(\"Feature importances using MDI\")\n",
    "ax.set_ylabel(\"Mean decrease in impurity\")\n",
    "fig.tight_layout()"
   ],
   "metadata": {
    "collapsed": false,
    "ExecuteTime": {
     "end_time": "2024-02-08T16:56:08.769492Z",
     "start_time": "2024-02-08T16:56:05.492365Z"
    }
   },
   "id": "688c8566b35ba5dc"
  },
  {
   "cell_type": "markdown",
   "source": [
    "Вывод user_id как самого частотного предсказанного значения для user_word - \n",
    "user_id могут повторяться, не самое точное предсказание"
   ],
   "metadata": {
    "collapsed": false
   },
   "id": "2db8ae18b8875d48"
  },
  {
   "cell_type": "code",
   "execution_count": 63,
   "outputs": [],
   "source": [
    "final = test.groupby('user_word')['predicted_user_id'].agg(lambda x: x.value_counts().idxmax()).reset_index(name='preds')\n",
    "final=final.set_index('user_word')\n",
    "final.shape[0]\n",
    "final.rename(columns={\"user_word\" : \"word\"},inplace=True)"
   ],
   "metadata": {
    "collapsed": false,
    "ExecuteTime": {
     "end_time": "2024-02-08T16:56:09.000083Z",
     "start_time": "2024-02-08T16:56:08.743558Z"
    }
   },
   "id": "b08205b1139a4484"
  },
  {
   "cell_type": "markdown",
   "source": [
    "Сопоставление user_id и user_word по вероятности попадания (по доле количества предсказаний конкретного user_id в количестве всех предсказанных значений). Вероятность сортировалась по убыванию и последовательно выбирался user_id с максимальным значением вероятности. Если такое значение уже занято, то берется следующее вероятное."
   ],
   "metadata": {
    "collapsed": false
   },
   "id": "55f65594479700e4"
  },
  {
   "cell_type": "code",
   "execution_count": 64,
   "outputs": [],
   "source": [
    "# Рассчитать вероятности попадания для каждого user_word_id\n",
    "grouped_sum = test.groupby(['user_word', 'predicted_user_id']).size().reset_index(name='count_sum')\n",
    "total_sum = test.groupby('user_word').size().reset_index(name='total_sum')\n",
    "result_probabilities = pd.merge(grouped_sum, total_sum, on='user_word')\n",
    "result_probabilities['probability'] = result_probabilities['count_sum'] / result_probabilities['total_sum']\n",
    "sorted_probabilities = result_probabilities.sort_values(by='probability', ascending=False)\n",
    "sorted_probabilities2 = result_probabilities.sort_values(by=['user_word','probability',], ascending=False)"
   ],
   "metadata": {
    "collapsed": false,
    "ExecuteTime": {
     "end_time": "2024-02-08T16:56:09.000512Z",
     "start_time": "2024-02-08T16:56:08.816565Z"
    }
   },
   "id": "cbadf804724e6212"
  },
  {
   "cell_type": "code",
   "execution_count": 65,
   "outputs": [],
   "source": [
    "# Создать таблицу сопоставления word и preds\n",
    "word_preds_mapping = pd.DataFrame(columns=['word', 'preds'])\n",
    "used_words = set()\n",
    "used_preds = set()\n",
    "order_list = []\n",
    "for index, row in sorted_probabilities.iterrows():\n",
    "    if row['user_word'] not in used_words and row['predicted_user_id'] not in used_preds:\n",
    "        word_preds_mapping = word_preds_mapping.append({'word': row['user_word'], 'preds': row['predicted_user_id']}, ignore_index=True)\n",
    "        used_words.add(row['user_word'])\n",
    "        used_preds.add(row['predicted_user_id'])\n",
    "        order_list.append(row['user_word'])"
   ],
   "metadata": {
    "collapsed": false,
    "ExecuteTime": {
     "end_time": "2024-02-08T16:56:09.088868Z",
     "start_time": "2024-02-08T16:56:08.865491Z"
    }
   },
   "id": "611cafdc9f81e304"
  },
  {
   "cell_type": "markdown",
   "source": [
    "Дополнение: если для определенного user_word не хватило значения, использовать -999.\n",
    "В данном случае не хватило предсказания для regression, для него выставляется -999"
   ],
   "metadata": {
    "collapsed": false
   },
   "id": "3f1acf00b73fbb14"
  },
  {
   "cell_type": "code",
   "execution_count": 66,
   "outputs": [],
   "source": [
    "for index, row in sorted_probabilities.iterrows():\n",
    "    if row['user_word'] not in used_words:\n",
    "        word_preds_mapping = word_preds_mapping.append({'word': row['user_word'], 'preds': -999}, ignore_index=True)\n",
    "        used_words.add(row['user_word'])\n",
    "        used_preds.add(row['predicted_user_id'])"
   ],
   "metadata": {
    "collapsed": false,
    "ExecuteTime": {
     "end_time": "2024-02-08T16:56:09.156589Z",
     "start_time": "2024-02-08T16:56:09.121716Z"
    }
   },
   "id": "449b29be7397ce3e"
  },
  {
   "cell_type": "markdown",
   "source": [
    "На протяжении многих попыток загрузки сабмита выяснилось что 'y' - тоже новый пользователь, поэтому выставляю для него -999"
   ],
   "metadata": {
    "collapsed": false
   },
   "id": "d07d7482317977ae"
  },
  {
   "cell_type": "code",
   "execution_count": 67,
   "outputs": [],
   "source": [
    "word_preds_mapping.loc[word_preds_mapping['word'] == 'y', 'preds'] = -999"
   ],
   "metadata": {
    "collapsed": false,
    "ExecuteTime": {
     "end_time": "2024-02-08T16:56:09.194250Z",
     "start_time": "2024-02-08T16:56:09.159806Z"
    }
   },
   "id": "33889abae8768460"
  },
  {
   "cell_type": "code",
   "execution_count": 68,
   "outputs": [],
   "source": [
    "word_preds_mapping=word_preds_mapping.set_index('word')\n",
    "word_preds_mapping = word_preds_mapping.sort_values(by='word')\n",
    "word_preds_mapping.shape[0]\n",
    "word_preds_mapping.to_csv('answer.csv')"
   ],
   "metadata": {
    "collapsed": false,
    "ExecuteTime": {
     "end_time": "2024-02-08T16:56:09.255218Z",
     "start_time": "2024-02-08T16:56:09.180070Z"
    }
   },
   "id": "b472d09e3d67d0a0"
  },
  {
   "cell_type": "markdown",
   "source": [
    "### Приложение. Фичи, которые убавляли скор"
   ],
   "metadata": {
    "collapsed": false
   },
   "id": "26524d056159fc71"
  },
  {
   "cell_type": "code",
   "execution_count": 69,
   "outputs": [],
   "source": [
    "#test.rename(columns={'user_word': 'user_id'}, inplace=True)\n",
    "# def process_data(df):\n",
    "#     метки времени\n",
    "#     df['ts'] = pd.to_datetime(df['ts'])\n",
    "#     df[\"second\"] = df['ts'].dt.second\n",
    "#     df[\"is_weekend\"] = df[\"weekday\"].map(lambda x: 1 if x in (5, 6) else 0)  # Метка выходного дня\n",
    "#     #метки дней\n",
    "#     df[\"1day\"] = df['ts'].dt.is_month_start.astype(int)     # 1-й день месяца\n",
    "#     df[\"2day\"] = (df.day == 2).astype(int)                  # 2-й день месяца\n",
    "#     df[\"last_day-1\"] = (df.day == df.ts.dt.daysinmonth-1).astype(int) # Предпоследний день месяца\n",
    "#     df[\"last_day\"] = df['ts'].dt.is_month_end.astype(int)  # Последний день месяца\n",
    "# \n",
    "#     # Метки времени суток\n",
    "#     df['morning'] = df['hour'].map(lambda x: 1 if 6 <= x < 12 else 0) \n",
    "#     df['daytime'] = df['hour'].map(lambda x: 1 if 12 <= x < 18 else 0)\n",
    "#     df['evening'] = df['hour'].map(lambda x: 1 if 18 <= x < 24 else 0)\n",
    "#     df['lunch_break'] = df['hour'].map(lambda x: 1 if 12 <= x < 14 else 0)\n",
    "# \n",
    "#     # Вероятность прохождения пользователем гейта\n",
    "#     gate_counts['user_prob'] = gate_counts.groupby('gate_id')['gate_count'].transform(lambda x: np.exp(x)/np.exp(x).sum())\n",
    "#     df = pd.merge(df, gate_counts[['user_id', 'gate_id', 'user_prob']], on=['user_id', 'gate_id'], how='left')\n",
    "#     \n",
    "#     return df\n",
    "# train = process_data(train)\n",
    "# test = process_data(test)\n",
    "#test.rename(columns={'user_id': 'user_word'}, inplace=True)"
   ],
   "metadata": {
    "collapsed": false,
    "ExecuteTime": {
     "end_time": "2024-02-08T16:56:09.291134Z",
     "start_time": "2024-02-08T16:56:09.199485Z"
    }
   },
   "id": "81f4c2d282bff58e"
  },
  {
   "cell_type": "markdown",
   "source": [
    "Время входа выхода в часах"
   ],
   "metadata": {
    "collapsed": false
   },
   "id": "209c2a41043520d3"
  },
  {
   "cell_type": "code",
   "execution_count": 70,
   "outputs": [],
   "source": [
    "#train['entry_time'] = train.groupby(['user_id', 'date'])['ts'].transform('min')\n",
    "#train['exit_time'] = train.groupby(['user_id', 'date'])['ts'].transform('max')\n",
    "#train['entry_hour'] = (train['ts'] - train['entry_time']).dt.total_seconds() / 3600\n",
    "#train['exit_hour'] = (train['ts'] - train['exit_time']).dt.total_seconds() / 3600\n",
    "#train.drop(['entry_time', 'exit_time'], axis=1, inplace=True)\n",
    "\n",
    "#test['entry_time'] = test.groupby(['user_word', 'date'])['ts'].transform('min')\n",
    "#test['exit_time'] = test.groupby(['user_word', 'date'])['ts'].transform('max')\n",
    "#test['entry_hour'] = (test['ts'] - test['entry_time']).dt.total_seconds() / 3600\n",
    "#test['exit_hour'] = (test['ts'] - test['exit_time']).dt.total_seconds() / 3600\n",
    "#test.drop(['entry_time', 'exit_time'], axis=1, inplace=True)"
   ],
   "metadata": {
    "collapsed": false,
    "ExecuteTime": {
     "end_time": "2024-02-08T16:56:09.291759Z",
     "start_time": "2024-02-08T16:56:09.212938Z"
    }
   },
   "id": "2fffd0520b475989"
  },
  {
   "cell_type": "markdown",
   "source": [
    "Метка 2 одинаковых гейта подряд и разница между ними 20 минут и меньше"
   ],
   "metadata": {
    "collapsed": false
   },
   "id": "7e16fd7a9fc4fd31"
  },
  {
   "cell_type": "code",
   "execution_count": 71,
   "outputs": [],
   "source": [
    "#train.sort_values(['user_id', 'ts'], inplace=True)\n",
    "#grouped_data = train.groupby('user_id')\n",
    "#train['same_turnstile_within_20min'] = 0\n",
    "#train['time_diff2'] = train.groupby('user_id')['ts'].diff()\n",
    "#condition = ((train['time_diff2'] <= timedelta(minutes=20)) & (train['gate_id'] == train['gate_id'].shift(1)))|((train['time_diff2'].shift(1) <= timedelta(minutes=20)) &(train['gate_id'] == train['gate_id'].shift(-1)))\n",
    "#train.loc[condition, 'same_turnstile_within_20min'] = 1\n",
    "#train.drop('time_diff2', axis=1, inplace=True)\n",
    "\n",
    "#test.sort_values(['user_word', 'ts'], inplace=True)\n",
    "#grouped_data = test.groupby('user_word')\n",
    "#test['same_turnstile_within_20min'] = 0\n",
    "#test['time_diff2'] = test.groupby('user_word')['ts'].diff()\n",
    "#condition = ((test['time_diff2'] <= timedelta(minutes=20)) & (test['gate_id'] == test['gate_id'].shift(1)))|((test['time_diff2'].shift(1) <= timedelta(minutes=20)) &(test['gate_id'] == test['gate_id'].shift(-1)))\n",
    "#test.loc[condition, 'same_turnstile_within_20min'] = 1\n",
    "#test.drop('time_diff2', axis=1, inplace=True)"
   ],
   "metadata": {
    "collapsed": false,
    "ExecuteTime": {
     "end_time": "2024-02-08T16:56:09.292029Z",
     "start_time": "2024-02-08T16:56:09.224136Z"
    }
   },
   "id": "da8e34f69a12435c"
  },
  {
   "cell_type": "markdown",
   "source": [
    "Самый встречающийся турникет для каждой группы - по дням и за все время"
   ],
   "metadata": {
    "collapsed": false
   },
   "id": "3ce6b6a36e6d6011"
  },
  {
   "cell_type": "code",
   "execution_count": 72,
   "outputs": [],
   "source": [
    "# most_frequent_gate_daily = grouped_data['gate_id'].agg(lambda x: x.value_counts().idxmax()).reset_index()\n",
    "# most_frequent_gate_total = train.groupby('user_id')['gate_id'].agg(lambda x: x.value_counts().idxmax()).reset_index()\n",
    "# train = pd.merge(train, most_frequent_gate_daily, on=['user_id', 'date'], how='left', suffixes=('', '_most_frequent_daily'))\n",
    "# train = pd.merge(train, most_frequent_gate_total, on='user_id', how='left', suffixes=('', '_most_frequent_total'))\n",
    "\n",
    "# most_frequent_gate_daily = grouped_data['gate_id'].agg(lambda x: x.value_counts().idxmax()).reset_index()\n",
    "# most_frequent_gate_total = test.groupby('user_word')['gate_id'].agg(lambda x: x.value_counts().idxmax()).reset_index()\n",
    "# test = pd.merge(test, most_frequent_gate_daily, on=['user_word', 'date'], how='left', suffixes=('', '_most_frequent_daily'))\n",
    "# test = pd.merge(test, most_frequent_gate_total, on='user_word', how='left', suffixes=('', '_most_frequent_total'))"
   ],
   "metadata": {
    "collapsed": false,
    "ExecuteTime": {
     "end_time": "2024-02-08T16:56:09.293326Z",
     "start_time": "2024-02-08T16:56:09.237528Z"
    }
   },
   "id": "27da22540e24ab1d"
  },
  {
   "cell_type": "markdown",
   "source": [
    "Самый встречающийся турникет для входа и выхода для каждого пользователя"
   ],
   "metadata": {
    "collapsed": false
   },
   "id": "d699f0fa28b80933"
  },
  {
   "cell_type": "code",
   "execution_count": 73,
   "outputs": [],
   "source": [
    "# most_common_entry_gate = first_gate.groupby('user_id')['gate_id'].agg(lambda x: x.value_counts().idxmax()).reset_index()\n",
    "# most_common_entry_gate.columns = ['user_id', 'most_common_entry_gate']\n",
    "# most_common_exit_gate = last_gate.groupby('user_id')['gate_id'].agg(lambda x: x.value_counts().idxmax()).reset_index()\n",
    "# most_common_exit_gate.columns = ['user_id', 'most_common_exit_gate']\n",
    "# train = pd.merge(train, most_common_entry_gate, on='user_id', how='left')\n",
    "# train = pd.merge(train, most_common_exit_gate, on='user_id', how='left')\n",
    "\n",
    "# most_common_entry_gate = first_gate.groupby('user_word')['gate_id'].agg(lambda x: x.value_counts().idxmax()).reset_index()\n",
    "# most_common_entry_gate.columns = ['user_word', 'most_common_entry_gate']\n",
    "# most_common_exit_gate = last_gate.groupby('user_word')['gate_id'].agg(lambda x: x.value_counts().idxmax()).reset_index()\n",
    "# most_common_exit_gate.columns = ['user_word', 'most_common_exit_gate']\n",
    "# test = pd.merge(test, most_common_entry_gate, on='user_word', how='left')\n",
    "# test = pd.merge(test, most_common_exit_gate, on='user_word', how='left')"
   ],
   "metadata": {
    "collapsed": false,
    "ExecuteTime": {
     "end_time": "2024-02-08T16:56:09.316687Z",
     "start_time": "2024-02-08T16:56:09.254886Z"
    }
   },
   "id": "16c19a4771436c16"
  },
  {
   "cell_type": "markdown",
   "source": [
    "Самый встречающийся гейт за неделю для каждого пользователя и самый встречающийся по дням недели"
   ],
   "metadata": {
    "collapsed": false
   },
   "id": "de095cb4cff91f0b"
  },
  {
   "cell_type": "code",
   "execution_count": 74,
   "outputs": [],
   "source": [
    "# train['week'] = train['ts'].dt.strftime('%Y-%U')\n",
    "# most_frequent_gate_weekly = train.groupby(['user_id', 'week'])['gate_id'].agg(lambda x: x.value_counts().idxmax()).reset_index()\n",
    "# most_frequent_gate_weekly.columns = ['user_id', 'week', 'most_frequent_gate_weekly']\n",
    "# train = pd.merge(train, most_frequent_gate_weekly, on=['user_id', 'week'], how='left')\n",
    "# train = train.drop(columns=['week'])\n",
    "# most_frequent_gate_weekday = train.groupby(['user_id', 'weekday'])['gate_id'].agg(lambda x: x.value_counts().idxmax()).reset_index()\n",
    "# most_frequent_gate_weekday.columns = ['user_id', 'weekday', 'most_frequent_gate_weekday']\n",
    "# train = pd.merge(train, most_frequent_gate_weekday, on=['user_id', 'weekday'], how='left')\n",
    "\n",
    "# test['week'] = test['ts'].dt.strftime('%Y-%U')\n",
    "# most_frequent_gate_weekly = test.groupby(['user_word', 'week'])['gate_id'].agg(lambda x: x.value_counts().idxmax()).reset_index()\n",
    "# most_frequent_gate_weekly.columns = ['user_word', 'week', 'most_frequent_gate_weekly']\n",
    "# test = pd.merge(test, most_frequent_gate_weekly, on=['user_word', 'week'], how='left')\n",
    "# test = test.drop(columns=['week'])\n",
    "# most_frequent_gate_weekday = test.groupby(['user_word', 'weekday'])['gate_id'].agg(lambda x: x.value_counts().idxmax()).reset_index()\n",
    "# most_frequent_gate_weekday.columns = ['user_word', 'weekday', 'most_frequent_gate_weekday']\n",
    "# test = pd.merge(test, most_frequent_gate_weekday, on=['user_word', 'weekday'], how='left')"
   ],
   "metadata": {
    "collapsed": false,
    "ExecuteTime": {
     "end_time": "2024-02-08T16:56:09.369776Z",
     "start_time": "2024-02-08T16:56:09.267898Z"
    }
   },
   "id": "678f065e2b5116ba"
  },
  {
   "cell_type": "markdown",
   "source": [
    "Были и другие, но они утеряны("
   ],
   "metadata": {
    "collapsed": false
   },
   "id": "53e9616455bb9795"
  },
  {
   "cell_type": "code",
   "execution_count": 74,
   "outputs": [],
   "source": [],
   "metadata": {
    "collapsed": false,
    "ExecuteTime": {
     "end_time": "2024-02-08T16:56:09.370668Z",
     "start_time": "2024-02-08T16:56:09.282730Z"
    }
   },
   "id": "ef94a4fec9ee3a3b"
  }
 ],
 "metadata": {
  "kernelspec": {
   "display_name": "Python 3",
   "language": "python",
   "name": "python3"
  },
  "language_info": {
   "codemirror_mode": {
    "name": "ipython",
    "version": 2
   },
   "file_extension": ".py",
   "mimetype": "text/x-python",
   "name": "python",
   "nbconvert_exporter": "python",
   "pygments_lexer": "ipython2",
   "version": "2.7.6"
  }
 },
 "nbformat": 4,
 "nbformat_minor": 5
}
